{
 "cells": [
  {
   "cell_type": "markdown",
   "id": "c69e26a4-8290-485c-af5c-ded96698ce46",
   "metadata": {},
   "source": [
    "# Data Science Tools and Ecosystem"
   ]
  },
  {
   "cell_type": "markdown",
   "id": "2a83b2a2-5c9b-4056-ae17-7e31b01af5bf",
   "metadata": {},
   "source": [
    "![Data Science image](https://institutotecnologicoeuropeo.com/wp-content/plugins/phastpress/phast.php/c2VydmljZT1pbWFnZXMmc3JjPWh0dHBzJTNBJTJGJTJGaW5zdGl0dXRvdGVjbm9sb2dpY29ldXJvcGVvLmNvbSUyRndwLWNvbnRlbnQlMkZ1cGxvYWRzJTJGMjAyMiUyRjA0JTJGZGF0YXNjaWVuY2UtNjQwLmpwZyZjYWNoZU1hcmtlcj0xNjUwNjIwNjI2LTE4ODgzJnRva2VuPTA1NDgyZWQ1YjI0NWYwNDY.q.jpg)"
   ]
  },
  {
   "cell_type": "markdown",
   "id": "d79f4a03-6573-43c8-829c-41245974fecb",
   "metadata": {},
   "source": [
    "### In this notebook, Data Science Tools and Ecosystem are summarized."
   ]
  },
  {
   "cell_type": "markdown",
   "id": "222c067b-cb3a-463e-b166-9dda8f876eb0",
   "metadata": {},
   "source": [
    "__Objetives:__"
   ]
  },
  {
   "cell_type": "markdown",
   "id": "aa860811-598d-49c1-ac77-3d19fda6fbf7",
   "metadata": {},
   "source": [
    "* List popular languages for Data Science\n",
    "* List popular Libraries for Data Science\n",
    "* List popular Tools for Data Science\n",
    "* Show aritmetic operations"
   ]
  },
  {
   "cell_type": "markdown",
   "id": "85fb46f6-823c-4a59-b909-09144321faef",
   "metadata": {},
   "source": [
    "#### Some of the popular languages that Data Scientists use are:"
   ]
  },
  {
   "cell_type": "markdown",
   "id": "1f13a1ac-10bb-4c8c-843e-d35a77e24b0a",
   "metadata": {},
   "source": [
    "1. __*Python*__\n",
    "2. R\n",
    "3. SQL\n",
    "4. SCALA\n",
    "5. JULIA"
   ]
  },
  {
   "cell_type": "markdown",
   "id": "6f0b9184-0b82-4a1f-be0e-e1eb9fe41c77",
   "metadata": {},
   "source": [
    "#### Some of the commonly used libraries used by Data Scientists include:"
   ]
  },
  {
   "cell_type": "markdown",
   "id": "293885df-78e5-46f0-8cd3-c3468814e7e8",
   "metadata": {},
   "source": [
    "* Matplotlib\n",
    "* SciPy\n",
    "* Scikit-learn\n",
    "* Pandas"
   ]
  },
  {
   "cell_type": "markdown",
   "id": "2c584e37-eaec-4f5e-bc56-975e37840d34",
   "metadata": {},
   "source": [
    "#### Some of the commonly used Tools used by Data Scientists are:"
   ]
  },
  {
   "cell_type": "markdown",
   "id": "8576a106-2b64-4907-aabd-330e1339f56f",
   "metadata": {},
   "source": [
    "| DataScience Tools|\n",
    "--------------------\n",
    "|Tensor Flow|\n",
    "|Apache Spark|\n",
    "|PyTorch|"
   ]
  },
  {
   "cell_type": "markdown",
   "id": "ab9ef0a1-5bb1-4606-93f8-349bb49ef6bd",
   "metadata": {},
   "source": [
    "#### Below are a few examples of evaluating arithmetic expressions in Python"
   ]
  },
  {
   "cell_type": "code",
   "execution_count": null,
   "id": "1835e3a7-f5f4-4052-b915-71bfad241877",
   "metadata": {},
   "outputs": [],
   "source": [
    "a = 2\n",
    "b = 3\n",
    "c = a+b\n",
    "print(c)"
   ]
  },
  {
   "cell_type": "code",
   "execution_count": null,
   "id": "c64d5bfb-250e-431d-9d40-f27ca7e1560a",
   "metadata": {},
   "outputs": [],
   "source": [
    "(3*6)+5"
   ]
  },
  {
   "cell_type": "code",
   "execution_count": null,
   "id": "c2fc1e82-4b39-4b2a-aba9-a33bb506eef5",
   "metadata": {},
   "outputs": [],
   "source": [
    "a= 200\n",
    "b = a/60\n",
    "print (b)"
   ]
  },
  {
   "cell_type": "markdown",
   "id": "ba07534f-a1b7-40f2-903e-575b4198893c",
   "metadata": {},
   "source": [
    "This will convert 200 minutes to hours by diving by 60"
   ]
  },
  {
   "cell_type": "code",
   "execution_count": null,
   "id": "2266989b-ff11-461c-be24-b50c71e48153",
   "metadata": {},
   "outputs": [],
   "source": [
    "x = 3\n",
    "while x<10:\n",
    "    print(x)\n",
    "    x=x+1"
   ]
  },
  {
   "cell_type": "code",
   "execution_count": null,
   "id": "b411b9d4-50c0-4e1f-8dbd-3fd204169553",
   "metadata": {},
   "outputs": [],
   "source": [
    "x=float(input(\"dame un numero de minutos\"))\n",
    "min=x/60\n",
    "print(f\"El numero que me diste es {min} minutos\")"
   ]
  },
  {
   "cell_type": "markdown",
   "id": "97aa4130-a7b9-4d62-8fdc-69c68d9f933d",
   "metadata": {},
   "source": [
    "###### _Esto es una prueba del uso del Notebook en Jupiter_"
   ]
  },
  {
   "cell_type": "markdown",
   "id": "39c013e0-94e9-494d-8216-a9b49c5d14fa",
   "metadata": {},
   "source": [
    "## Author\n",
    "_Fernando Camargo._"
   ]
  }
 ],
 "metadata": {
  "kernelspec": {
   "display_name": "Python 3 (ipykernel)",
   "language": "python",
   "name": "python3"
  },
  "language_info": {
   "codemirror_mode": {
    "name": "ipython",
    "version": 3
   },
   "file_extension": ".py",
   "mimetype": "text/x-python",
   "name": "python",
   "nbconvert_exporter": "python",
   "pygments_lexer": "ipython3",
   "version": "3.11.9"
  }
 },
 "nbformat": 4,
 "nbformat_minor": 5
}
